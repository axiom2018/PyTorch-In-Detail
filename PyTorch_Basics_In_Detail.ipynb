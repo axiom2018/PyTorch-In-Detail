{
  "cells": [
    {
      "cell_type": "code",
      "execution_count": 1,
      "metadata": {
        "id": "1y7ectUaiC-1"
      },
      "outputs": [],
      "source": [
        "import torch as t\n",
        "from collections import Counter\n",
        "import torchtext"
      ]
    },
    {
      "cell_type": "code",
      "source": [
        "t.manual_seed(0)"
      ],
      "metadata": {
        "colab": {
          "base_uri": "https://localhost:8080/"
        },
        "id": "0rABjpZoGeb8",
        "outputId": "199d0f59-5b7d-498f-9b0b-8f04d75cf1b6"
      },
      "execution_count": 2,
      "outputs": [
        {
          "output_type": "execute_result",
          "data": {
            "text/plain": [
              "<torch._C.Generator at 0x7c0ec81a9650>"
            ]
          },
          "metadata": {},
          "execution_count": 2
        }
      ]
    },
    {
      "cell_type": "markdown",
      "source": [
        "# 1) Tensors in detail"
      ],
      "metadata": {
        "id": "LT80kF9d__iW"
      }
    },
    {
      "cell_type": "code",
      "source": [
        "''' Argmax is cool, simply gets the indices of highest values.\n",
        "    1 - Vertical/Row by row.\n",
        "    0 - Horizontal/Column by column.\n",
        "\n",
        "    So:\n",
        "    1 - Indices 1,0,1,2 and the numbers are 7,10,5,22.\n",
        "    0 - Indices 1,3,3 and the numbers are 10,20,22.\n",
        "\n",
        "    Argmin is opposite. '''\n",
        "\n",
        "z = t.tensor([[3, 7, 1],\n",
        "              [10, 3, 5],\n",
        "              [4, 5, 1],\n",
        "              [4, 20, 22]])\n",
        "\n",
        "print(f'---Argmax---')\n",
        "print(t.argmax(z, 1))\n",
        "print(t.argmax(z, 0))\n",
        "print('\\n\\n')\n",
        "\n",
        "print(f'---Argmin---')\n",
        "print(t.argmin(z, 1))\n",
        "print(t.argmin(z, 0))"
      ],
      "metadata": {
        "id": "CY1IjG5WJViX",
        "colab": {
          "base_uri": "https://localhost:8080/"
        },
        "outputId": "e2b381a3-ea56-4213-905d-176086608eca"
      },
      "execution_count": 3,
      "outputs": [
        {
          "output_type": "stream",
          "name": "stdout",
          "text": [
            "---Argmax---\n",
            "tensor([1, 0, 1, 2])\n",
            "tensor([1, 3, 3])\n",
            "\n",
            "\n",
            "\n",
            "---Argmin---\n",
            "tensor([2, 1, 2, 0])\n",
            "tensor([0, 1, 0])\n"
          ]
        }
      ]
    },
    {
      "cell_type": "code",
      "execution_count": 4,
      "metadata": {
        "colab": {
          "base_uri": "https://localhost:8080/"
        },
        "id": "Y1HDc356yRJa",
        "outputId": "88c3b167-5650-4a94-db47-23afc5793a00"
      },
      "outputs": [
        {
          "output_type": "stream",
          "name": "stdout",
          "text": [
            "tensor([[5, 6],\n",
            "        [7, 8]])\n",
            "tensor([[5, 6],\n",
            "        [7, 8]])\n"
          ]
        }
      ],
      "source": [
        "''' view/reshape very similar\n",
        "\n",
        "   Both inputs are row/column\n",
        "   Format. Can give -1 to one\n",
        "   Arg to say \"figure out this\n",
        "   Dimension\"\n",
        "'''\n",
        "\n",
        "x = t.tensor([5,6,7,8])\n",
        "\n",
        "print(x.reshape(2,2))\n",
        "print(x.view(2,2))"
      ]
    },
    {
      "cell_type": "code",
      "execution_count": 5,
      "metadata": {
        "colab": {
          "base_uri": "https://localhost:8080/"
        },
        "id": "9cWofZYX1g_z",
        "outputId": "70541dcb-ef43-4629-aba2-5d1876afec79"
      },
      "outputs": [
        {
          "output_type": "execute_result",
          "data": {
            "text/plain": [
              "tensor([2, 3, 1, 0])"
            ]
          },
          "metadata": {},
          "execution_count": 5
        }
      ],
      "source": [
        "''' Seems to get a certain\n",
        "amount of values from given ts,\n",
        "and if replacement if True,\n",
        "can get more values.\n",
        "'''\n",
        "x = t.tensor([4,2,5,7],\n",
        "              dtype=t.float32)\n",
        "\n",
        "t.multinomial(x, 4)"
      ]
    },
    {
      "cell_type": "code",
      "execution_count": 6,
      "metadata": {
        "colab": {
          "base_uri": "https://localhost:8080/"
        },
        "id": "pYziOvWt6PBg",
        "outputId": "922bc281-9329-40c6-a589-1c4dc5fda26b"
      },
      "outputs": [
        {
          "output_type": "execute_result",
          "data": {
            "text/plain": [
              "tensor([[1., 1.],\n",
              "        [1., 1.],\n",
              "        [1., 1.],\n",
              "        [1., 1.],\n",
              "        [1., 1.]])"
            ]
          },
          "metadata": {},
          "execution_count": 6
        }
      ],
      "source": [
        "# same with zeros\n",
        "# a = t.ones(5)\n",
        "a = t.ones(5, 2) # 2d. 5 rows 2 colunns\n",
        "# a = t.ones(2, 2, 4) #3d. 2 rows 4 columns\n",
        "\n",
        "a"
      ]
    },
    {
      "cell_type": "code",
      "execution_count": 7,
      "metadata": {
        "colab": {
          "base_uri": "https://localhost:8080/"
        },
        "id": "aL10sOr0EuiA",
        "outputId": "1e639e62-c75c-412e-e0dc-45a5136e9f22"
      },
      "outputs": [
        {
          "output_type": "execute_result",
          "data": {
            "text/plain": [
              "tensor([5., 4., 7.])"
            ]
          },
          "metadata": {},
          "execution_count": 7
        }
      ],
      "source": [
        "''' bt = basic tensor\n",
        "Can change dtype and device\n",
        "If necessary\n",
        "'''\n",
        "bt = t.tensor([5, 4, 7],\n",
        "              dtype=t.float32)\n",
        "\n",
        "bt"
      ]
    },
    {
      "cell_type": "code",
      "execution_count": 8,
      "metadata": {
        "colab": {
          "base_uri": "https://localhost:8080/"
        },
        "id": "JtrOCqnsFa4q",
        "outputId": "b42caca3-ff9a-4b85-8031-30d8d9b4bb47"
      },
      "outputs": [
        {
          "output_type": "stream",
          "name": "stdout",
          "text": [
            "tensor([[1, 3, 5],\n",
            "        [7, 8, 9]])\n",
            "torch.Size([2, 3])\n"
          ]
        }
      ],
      "source": [
        "# 2d\n",
        "bt = t.tensor(\n",
        "   [[1,3,5],\n",
        "    [7,8,9]]\n",
        ")\n",
        "\n",
        "print(bt)\n",
        "print(bt.shape)"
      ]
    },
    {
      "cell_type": "markdown",
      "source": [
        "### 1.2) Indexing"
      ],
      "metadata": {
        "id": "NIoIYP_Fv0ft"
      }
    },
    {
      "cell_type": "code",
      "execution_count": 9,
      "metadata": {
        "colab": {
          "base_uri": "https://localhost:8080/"
        },
        "id": "b6YXOJL3Fzfk",
        "outputId": "56f092c7-0e09-4f45-8fae-5fc8e8aaf823"
      },
      "outputs": [
        {
          "output_type": "execute_result",
          "data": {
            "text/plain": [
              "tensor(9)"
            ]
          },
          "metadata": {},
          "execution_count": 9
        }
      ],
      "source": [
        "# indexing\n",
        "\n",
        "# bt[0] # get row. Gets element in 1d tensor\n",
        "# bt[1,2] # get 9\n",
        "bt[1][2]"
      ]
    },
    {
      "cell_type": "markdown",
      "source": [
        "### 1.3) One hot encoding with tensors"
      ],
      "metadata": {
        "id": "ARNk3Irh_8nX"
      }
    },
    {
      "cell_type": "code",
      "execution_count": 10,
      "metadata": {
        "colab": {
          "base_uri": "https://localhost:8080/"
        },
        "id": "hufDLZ20sqbH",
        "outputId": "94ae54aa-800e-4d3d-c77e-c88c3e2d34f3"
      },
      "outputs": [
        {
          "output_type": "execute_result",
          "data": {
            "text/plain": [
              "tensor([[0, 0, 0, 0, 0, 1],\n",
              "        [0, 1, 0, 0, 0, 0],\n",
              "        [1, 0, 0, 0, 0, 0],\n",
              "        [0, 1, 0, 0, 0, 0],\n",
              "        [1, 0, 0, 0, 0, 0]])"
            ]
          },
          "metadata": {},
          "execution_count": 10
        }
      ],
      "source": [
        "import torch.nn.functional as f\n",
        "\n",
        "''' \"Used to indicate the presence\n",
        "of a value and lack of presence\n",
        "of other values.\"\n",
        "\n",
        "Below goes in order in each\n",
        "Tensor. Like index 0,1,2,3,4,5\n",
        "Will be indicative of the slot\n",
        "For each num. Hence why 5s tensor\n",
        "Gets ITS 1 at end. '''\n",
        "\n",
        "l = t.tensor([5,1,0,1,0])\n",
        "f.one_hot(l, num_classes=6)"
      ]
    },
    {
      "cell_type": "markdown",
      "source": [
        "### 1.3) Slicing, dtype, & typecast"
      ],
      "metadata": {
        "id": "gGuI9p0Vv_F8"
      }
    },
    {
      "cell_type": "code",
      "execution_count": 11,
      "metadata": {
        "colab": {
          "base_uri": "https://localhost:8080/"
        },
        "id": "E37S6qFGGiYH",
        "outputId": "b5dd8696-81f7-422b-952b-ba80063a1c2b"
      },
      "outputs": [
        {
          "output_type": "execute_result",
          "data": {
            "text/plain": [
              "tensor([[8, 7, 6, 5],\n",
              "        [4, 3, 2, 1]])"
            ]
          },
          "metadata": {},
          "execution_count": 11
        }
      ],
      "source": [
        "import numpy as np\n",
        "\n",
        "# Slicing\n",
        "\n",
        "X = t.tensor([5,4,1,8,9])\n",
        "\n",
        "# X[:] # all elements\n",
        "# X[1:3] # gets 4,1\n",
        "# X[:2] # gets 5,4\n",
        "\n",
        "# bt[0,:] # get first row\n",
        "# bt[:,0] # get first column\n",
        "# bt[...,0] # get first column\n",
        "\n",
        "# X.dtype # type check. Comes in useful a lot tbh\n",
        "# t.tensor([4,3,2], dtype=t.float32) # Create tensors of a certain type.\n",
        "# X.numpy() # typecast\n",
        "\n",
        "h = np.array([[8,7,6,5],[4,3,2,1]])\n",
        "ht = t.from_numpy(h) # array to ts\n",
        "ht"
      ]
    },
    {
      "cell_type": "code",
      "source": [
        "t.tensor([4,3,2], dtype=t.float32)"
      ],
      "metadata": {
        "colab": {
          "base_uri": "https://localhost:8080/"
        },
        "id": "kbrrKdqXWGG3",
        "outputId": "2e2e915a-8172-4b7a-c07f-ef81487a41b6"
      },
      "execution_count": 12,
      "outputs": [
        {
          "output_type": "execute_result",
          "data": {
            "text/plain": [
              "tensor([4., 3., 2.])"
            ]
          },
          "metadata": {},
          "execution_count": 12
        }
      ]
    },
    {
      "cell_type": "code",
      "execution_count": 13,
      "metadata": {
        "colab": {
          "base_uri": "https://localhost:8080/"
        },
        "id": "vykU4mhysv1E",
        "outputId": "84e85bd7-657e-4a50-bf76-aec2e8312611"
      },
      "outputs": [
        {
          "output_type": "stream",
          "name": "stdout",
          "text": [
            "x:\n",
            "[1 3 5 7]\n",
            "type: <class 'numpy.ndarray'>\n",
            "\n",
            "x:\n",
            "tensor([1, 3, 5, 7])\n",
            "type: <class 'torch.Tensor'>\n",
            "\n",
            "Y:\n",
            "[1 3 5 7]\n",
            "type: <class 'numpy.ndarray'>\n",
            "\n"
          ]
        }
      ],
      "source": [
        "# tensor to Numpy and Numpy to tensor\n",
        "\n",
        "x = np.array([1,3,5,7])\n",
        "\n",
        "# to tensor\n",
        "print(f'x:\\n{x}\\ntype: {type(x)}\\n')\n",
        "x = t.tensor(x)\n",
        "print(f'x:\\n{x}\\ntype: {type(x)}\\n')\n",
        "\n",
        "# to numpy arr\n",
        "Y = x.numpy()\n",
        "print(f'Y:\\n{Y}\\ntype: {type(Y)}\\n')"
      ]
    },
    {
      "cell_type": "markdown",
      "source": [
        "### 2) Math & Etc"
      ],
      "metadata": {
        "id": "FPbNd7YnwL7L"
      }
    },
    {
      "cell_type": "code",
      "execution_count": 14,
      "metadata": {
        "colab": {
          "base_uri": "https://localhost:8080/"
        },
        "id": "G_F4yYl5xrj8",
        "outputId": "0433f8e1-83b3-46f6-e588-332ea5d03aca"
      },
      "outputs": [
        {
          "output_type": "stream",
          "name": "stdout",
          "text": [
            "tensor([2, 4, 6, 8])\n",
            "[2 4 6 8]\n"
          ]
        }
      ],
      "source": [
        "# change in tensor changes np arr\n",
        "print(x.add_(1))\n",
        "print(Y)"
      ]
    },
    {
      "cell_type": "code",
      "execution_count": 15,
      "metadata": {
        "colab": {
          "base_uri": "https://localhost:8080/"
        },
        "id": "MGsNvjvxJ43Y",
        "outputId": "e461ac3d-882a-4e8a-9307-db93fc140203"
      },
      "outputs": [
        {
          "output_type": "execute_result",
          "data": {
            "text/plain": [
              "tensor([1., 1., 1., 1., 1.])"
            ]
          },
          "metadata": {},
          "execution_count": 15
        }
      ],
      "source": [
        "# math\n",
        "\n",
        "Y = t.tensor([1,2,3,4,5])\n",
        "\n",
        "# basic tensor math can be done below\n",
        "# X + Y # add\n",
        "# t.add(X, Y) # add\n",
        "\n",
        "\n",
        "# Y - Y # sub\n",
        "# t.sub(Y, Y) # sub\n",
        "\n",
        "# Y * 2 # scalar multiplication. Multiples elements by 2\n",
        "# Y * Y # tensor & tensor multiplication\n",
        "\n",
        "# Y / Y # division\n",
        "\n",
        "\n",
        "# Y / 2 # Scalar division.\n",
        "# t.divide(Y, Y) # Scalar division.\n",
        "Y / Y # more scalar division"
      ]
    },
    {
      "cell_type": "code",
      "source": [
        "''' cumsum - Goes throughout a tensor\n",
        "    and just adds things\n",
        "\n",
        "    1) Ex 1d tensor, dim 0 -\n",
        "    The following explanation has been copied from\n",
        "    a previous Google Colab I have and slightly\n",
        "    edited:\n",
        "\n",
        "    \"cumsum (when dim=0), takes the groups of the numbers in the tensor to make a\n",
        "    NEW tensor.\n",
        "    Ex: If vector is [1,2,3,4], then cumsum creates new vector.\n",
        "      1) 1 is first group, it's added to vector to make [1]\n",
        "      2) 1,2 is second group, all are added and assigned to vector to make [1,3]\n",
        "      3) 1,2,3 is third group, all are added and assigned to vector to make [1,3,6]\n",
        "      4) 1,2,3,4 is fourth group, all are added and assigned to vector to make [1,3,6,10]\"\n",
        "\n",
        "    2) Ex 1d tensor, dim 1 -\n",
        "      Doesn't work, the error \"IndexError: Dimension out of range (expected to be\n",
        "      in range of [-1, 0], but got 1)\" came because 1 indicates going vertically.\n",
        "\n",
        "    3) Ex 2d tensor, dim 0 -\n",
        "      Like below example, if dim is 0, it goes column to column. So 1+4=5, that'll\n",
        "      be the first number in the second tensor. 2+5=7, place THAT in the next\n",
        "      index of the second tensor, etc.\n",
        "\n",
        "    4) Ex 2d tensor, dim 1 -\n",
        "      Works but does the math row by row. Each row, it applies the math described in\n",
        "      the earlier comment I copied from my other Colab in section 1 above.\n",
        "\n",
        "\n",
        "'''\n",
        "\n",
        "c = t.tensor([3,2,5,1,9,5,8]) # Total 33\n",
        "d = t.tensor([[1,2,3],\n",
        "              [4,5,6]])\n",
        "\n",
        "print(t.cumsum(c, dim=0)) # Prints tensor([ 3,  5, 10, 11, 20, 25, 33])\n",
        "print(t.cumsum(d, dim=1))\n",
        "print(t.cumsum(d, dim=0))"
      ],
      "metadata": {
        "colab": {
          "base_uri": "https://localhost:8080/"
        },
        "id": "fZ4mybYMhZ0-",
        "outputId": "18b8a804-b7d5-4561-f614-aff810e8b146"
      },
      "execution_count": 16,
      "outputs": [
        {
          "output_type": "stream",
          "name": "stdout",
          "text": [
            "tensor([ 3,  5, 10, 11, 20, 25, 33])\n",
            "tensor([[ 1,  3,  6],\n",
            "        [ 4,  9, 15]])\n",
            "tensor([[1, 2, 3],\n",
            "        [5, 7, 9]])\n"
          ]
        }
      ]
    },
    {
      "cell_type": "code",
      "execution_count": 17,
      "metadata": {
        "colab": {
          "base_uri": "https://localhost:8080/"
        },
        "id": "CZlyC42TLNMx",
        "outputId": "ee42cfed-0f99-4064-c710-79c4a2366ca4"
      },
      "outputs": [
        {
          "output_type": "execute_result",
          "data": {
            "text/plain": [
              "tensor([[16., 20., 28.],\n",
              "        [24., 30., 42.],\n",
              "        [44., 55., 77.]])"
            ]
          },
          "metadata": {},
          "execution_count": 17
        }
      ],
      "source": [
        "''' Each row of first is\n",
        "Individually multipled with\n",
        "Each column. So 2*4, 1*4, 1*4\n",
        "is 16 '''\n",
        "\n",
        "a = t.Tensor(\n",
        "[\n",
        "    [2, 1, 1],\n",
        "    [2, 2, 2],\n",
        "    [3, 5, 3]\n",
        "])\n",
        "\n",
        "b = t.Tensor(\n",
        "[\n",
        "    [4, 5, 7],\n",
        "    [4, 5, 7],\n",
        "    [4, 5, 7]\n",
        "])\n",
        "\n",
        "c = t.mm(a, b)\n",
        "\n",
        "c"
      ]
    },
    {
      "cell_type": "code",
      "source": [
        "''' mean/max/min. Simple. Mean\n",
        "Will get all elements, div by\n",
        "Number of elements and return that\n",
        "Value\n",
        "\n",
        "1) Mean(1)\n",
        "Row by row.\n",
        "Add first row for 64, divide by\n",
        "Total which is 3, get 21.3\n",
        "Same for the other rows\n",
        "\n",
        "2) Mean(0)\n",
        "Column by column\n",
        "Add first column for 84, divide by\n",
        "Total which is 3, get 28\n",
        "Same for other columns\n",
        "\n",
        "\n",
        "'''\n",
        "\n",
        "\n",
        "print(c.type(t.float32))\n",
        "\n",
        "print(c.mean())\n",
        "print(c.mean(0))\n",
        "print(c.mean(1))"
      ],
      "metadata": {
        "colab": {
          "base_uri": "https://localhost:8080/"
        },
        "id": "zuIIjAiUhaBl",
        "outputId": "65011181-8423-47ad-8849-9892be14cc13"
      },
      "execution_count": 18,
      "outputs": [
        {
          "output_type": "stream",
          "name": "stdout",
          "text": [
            "tensor([[16., 20., 28.],\n",
            "        [24., 30., 42.],\n",
            "        [44., 55., 77.]])\n",
            "tensor(37.3333)\n",
            "tensor([28., 35., 49.])\n",
            "tensor([21.3333, 32.0000, 58.6667])\n"
          ]
        }
      ]
    },
    {
      "cell_type": "code",
      "source": [
        "# c.min() # get min in whole tensor. Same concept for .max()\n",
        "c[1].min() # get min in specific row"
      ],
      "metadata": {
        "colab": {
          "base_uri": "https://localhost:8080/"
        },
        "id": "jL9dRqSok8Wx",
        "outputId": "88a98fd1-7e2a-4e9e-c0ca-788e42edeb0c"
      },
      "execution_count": 19,
      "outputs": [
        {
          "output_type": "execute_result",
          "data": {
            "text/plain": [
              "tensor(24.)"
            ]
          },
          "metadata": {},
          "execution_count": 19
        }
      ]
    },
    {
      "cell_type": "code",
      "execution_count": 20,
      "metadata": {
        "colab": {
          "base_uri": "https://localhost:8080/"
        },
        "id": "3gIP5TF4X7Sa",
        "outputId": "773ff4f1-1aa1-4ed3-9611-c53ea7835715"
      },
      "outputs": [
        {
          "output_type": "stream",
          "name": "stdout",
          "text": [
            "tensor([[16., 20., 28.],\n",
            "        [24., 30., 42.],\n",
            "        [44., 55., 77.]])\n",
            "\n",
            "\n",
            "tensor([[1., 1., 1.],\n",
            "        [1., 1., 1.],\n",
            "        [1., 1., 1.]])\n"
          ]
        }
      ],
      "source": [
        "# ones/rand_like gets us tensor of same shape\n",
        "\n",
        "print(c)\n",
        "print('\\n')\n",
        "print(t.ones_like(c))"
      ]
    },
    {
      "cell_type": "code",
      "execution_count": 21,
      "metadata": {
        "colab": {
          "base_uri": "https://localhost:8080/"
        },
        "id": "X0y2ExZhYf2b",
        "outputId": "7e90ae4a-bb72-4217-b427-32c3d6896bcd"
      },
      "outputs": [
        {
          "output_type": "execute_result",
          "data": {
            "text/plain": [
              "tensor([[0.7682, 0.0885, 0.1320],\n",
              "        [0.3074, 0.6341, 0.4901]])"
            ]
          },
          "metadata": {},
          "execution_count": 21
        }
      ],
      "source": [
        "# t.rand(3) # 1d random nums\n",
        "t.rand(2,3) # 2d"
      ]
    },
    {
      "cell_type": "code",
      "execution_count": 22,
      "metadata": {
        "colab": {
          "base_uri": "https://localhost:8080/"
        },
        "id": "vQ5Qx7HkY_gk",
        "outputId": "dadac300-ee99-4003-c670-a814d9aa3516"
      },
      "outputs": [
        {
          "output_type": "execute_result",
          "data": {
            "text/plain": [
              "tensor([20., 30., 55.])"
            ]
          },
          "metadata": {},
          "execution_count": 22
        }
      ],
      "source": [
        "c[:, 1]"
      ]
    },
    {
      "cell_type": "code",
      "execution_count": 23,
      "metadata": {
        "colab": {
          "base_uri": "https://localhost:8080/"
        },
        "id": "PFiJxrGWafsE",
        "outputId": "1033cf9e-96a8-4868-feaf-b58719a955dd"
      },
      "outputs": [
        {
          "output_type": "stream",
          "name": "stdout",
          "text": [
            "c:\n",
            "tensor([[16., 20., 28.],\n",
            "        [24., 30., 42.],\n",
            "        [44., 55., 77.]])\n",
            "\n"
          ]
        },
        {
          "output_type": "execute_result",
          "data": {
            "text/plain": [
              "tensor([[16.,  5., 28.],\n",
              "        [24.,  5., 42.],\n",
              "        [44.,  5., 77.]])"
            ]
          },
          "metadata": {},
          "execution_count": 23
        }
      ],
      "source": [
        "# change values of column\n",
        "print(f'c:\\n{c}\\n')\n",
        "\n",
        "c[:,1] = 5 # all first column to 5\n",
        "\n",
        "c"
      ]
    },
    {
      "cell_type": "code",
      "execution_count": 24,
      "metadata": {
        "colab": {
          "base_uri": "https://localhost:8080/"
        },
        "id": "QAW6Y8oofU9E",
        "outputId": "a99b14d1-f304-4f3a-e1cb-45397f12d1ea"
      },
      "outputs": [
        {
          "output_type": "execute_result",
          "data": {
            "text/plain": [
              "tensor([[16.,  5., 28., 16.,  5., 28.],\n",
              "        [24.,  5., 42., 24.,  5., 42.],\n",
              "        [44.,  5., 77., 44.,  5., 77.]])"
            ]
          },
          "metadata": {},
          "execution_count": 24
        }
      ],
      "source": [
        "x = c[0]\n",
        "y = c[1]\n",
        "\n",
        "# t.cat((x,y), dim=0) # combines 1d\n",
        "\n",
        "# 2d tensor, Dim 1? Puts tensors next to each other\n",
        "t.cat([c, c], dim=1)\n",
        "\n",
        "# 2d tensor, dim 0? Stacks tensors on top\n",
        "# t.cat([c, c], dim=0)"
      ]
    },
    {
      "cell_type": "code",
      "source": [
        "''' Want to combine tensors? Stack helps. MUST be same dimensions. dim=1 gives vertical alignment, dim=0 gives horizontal.  '''\n",
        "first_tensor = t.tensor([1,2,3])\n",
        "second_tensor = t.tensor([5,5,5])\n",
        "\n",
        "v_tensor = t.stack([first_tensor, second_tensor],dim=1)\n",
        "h_tensor = t.stack([first_tensor, second_tensor],dim=0)\n",
        "\n",
        "print(f'Vertical tensor:\\n{v_tensor}\\n\\nHorizontal tensor:\\n{h_tensor}\\n')\n",
        "print(f'Vertical tensor shape: {v_tensor.shape}\\nHorizontal tensor shape: {h_tensor.shape}')"
      ],
      "metadata": {
        "id": "FLzA1sJHJ4xM",
        "colab": {
          "base_uri": "https://localhost:8080/"
        },
        "outputId": "f89bd265-498b-413b-e8b6-c7564657a3f0"
      },
      "execution_count": 25,
      "outputs": [
        {
          "output_type": "stream",
          "name": "stdout",
          "text": [
            "Vertical tensor:\n",
            "tensor([[1, 5],\n",
            "        [2, 5],\n",
            "        [3, 5]])\n",
            "\n",
            "Horizontal tensor:\n",
            "tensor([[1, 2, 3],\n",
            "        [5, 5, 5]])\n",
            "\n",
            "Vertical tensor shape: torch.Size([3, 2])\n",
            "Horizontal tensor shape: torch.Size([2, 3])\n"
          ]
        }
      ]
    },
    {
      "cell_type": "code",
      "execution_count": 26,
      "metadata": {
        "colab": {
          "base_uri": "https://localhost:8080/"
        },
        "id": "75914KqjoMMG",
        "outputId": "570ffb08-7bdb-4c37-bee8-0bc599dadbb0"
      },
      "outputs": [
        {
          "output_type": "execute_result",
          "data": {
            "text/plain": [
              "tensor([[1., 4.],\n",
              "        [2., 5.],\n",
              "        [3., 6.]])"
            ]
          },
          "metadata": {},
          "execution_count": 26
        }
      ],
      "source": [
        "# transpose flips dimensions\n",
        "\n",
        "b = t.tensor([[1., 2., 3.],\n",
        "              [4., 5., 6.]])\n",
        "\n",
        "a = t.tensor([5,7,3])\n",
        "\n",
        "# a.t() # no effect, probably because 1d\n",
        "b.t() # shape from 2,3 to 3,2"
      ]
    },
    {
      "cell_type": "code",
      "execution_count": 27,
      "metadata": {
        "colab": {
          "base_uri": "https://localhost:8080/"
        },
        "id": "qzirQBrfrxoW",
        "outputId": "a2039696-cf44-42d1-cbe4-81d7627b72b2"
      },
      "outputs": [
        {
          "output_type": "stream",
          "name": "stdout",
          "text": [
            "tensor([[1., 2., 3.],\n",
            "        [4., 5., 6.]])\n",
            "\n",
            "tensor([[ 5.,  6.,  7.],\n",
            "        [ 8.,  9., 10.]])\n"
          ]
        }
      ],
      "source": [
        "\n",
        "# .add/sub/etc great for in place math\n",
        "print(f\"{b}\\n\")\n",
        "b.add_(4)\n",
        "print(b)"
      ]
    },
    {
      "cell_type": "code",
      "execution_count": 28,
      "metadata": {
        "colab": {
          "base_uri": "https://localhost:8080/"
        },
        "id": "3LgwNmx5O-G1",
        "outputId": "5645df3d-efba-40b6-d4e0-a89723a5d527"
      },
      "outputs": [
        {
          "output_type": "execute_result",
          "data": {
            "text/plain": [
              "tensor([[16.,  5., 28.],\n",
              "        [24.,  5., 42.],\n",
              "        [44.,  5., 77.]])"
            ]
          },
          "metadata": {},
          "execution_count": 28
        }
      ],
      "source": [
        "# move tensor to GPU or CPU\n",
        "# c = c.to(device=\"cpu\")\n",
        "\n",
        "c"
      ]
    },
    {
      "cell_type": "code",
      "source": [
        "x = t.tensor([4,5,6,7,8])\n",
        "y = t.tensor([[4],\n",
        "              [1],\n",
        "              [2],\n",
        "              [7],\n",
        "              [3]])\n",
        "print(x.shape)\n",
        "print(y.shape)\n",
        "# print(y.T.shape)\n",
        "\n",
        "''' quick note: x is shape 5\n",
        "And y is 5,1. 5 rows and 1 column\n",
        "Since the rows of the 2d tensor\n",
        "Match the original size/shape\n",
        "Of 1d tensor, it works.\n",
        "\n",
        "If I try and transpose y, I get\n",
        "\"tensor([[4, 1, 2, 7, 3]])\" and\n",
        "THAT shape is 1,5. So the rows of\n",
        "This one won't match the\n",
        "Original size/shape, so that's why\n",
        "\"t.matmul(x,y.T)\" fails\n",
        "'''\n",
        "print(t.matmul(x, y))"
      ],
      "metadata": {
        "colab": {
          "base_uri": "https://localhost:8080/"
        },
        "id": "SaDWylQm6IfI",
        "outputId": "79856a4c-6cc0-4e4c-87db-adcb72c73c6e"
      },
      "execution_count": 29,
      "outputs": [
        {
          "output_type": "stream",
          "name": "stdout",
          "text": [
            "torch.Size([5])\n",
            "torch.Size([5, 1])\n",
            "tensor([106])\n"
          ]
        }
      ]
    },
    {
      "cell_type": "code",
      "source": [
        "# .size is literally like shape. Below is 2 rows, 4 columns.\n",
        "x = t.tensor([[5,4,3,4],\n",
        "              [1,7,8,9]])\n",
        "\n",
        "print(f'Size: {x.size()}\\nGet rows: {x.size()[0]}\\nGet columns: {x.size()[1]}\\n')\n",
        "\n",
        "print(f'Shape: {x.shape}\\nShape rows: {x.shape[0]}\\nShape columns: {x.shape[1]}')"
      ],
      "metadata": {
        "id": "IbsOzWDn47sI",
        "colab": {
          "base_uri": "https://localhost:8080/"
        },
        "outputId": "f70f9a4e-5169-49d2-a07b-07afad0a6477"
      },
      "execution_count": 30,
      "outputs": [
        {
          "output_type": "stream",
          "name": "stdout",
          "text": [
            "Size: torch.Size([2, 4])\n",
            "Get rows: 2\n",
            "Get columns: 4\n",
            "\n",
            "Shape: torch.Size([2, 4])\n",
            "Shape rows: 2\n",
            "Shape columns: 4\n"
          ]
        }
      ]
    },
    {
      "cell_type": "code",
      "source": [
        "''' Right now I have no clue\n",
        "where Id use this. Gives\n",
        "2d tensor of course '''\n",
        "\n",
        "t.eye(3)"
      ],
      "metadata": {
        "colab": {
          "base_uri": "https://localhost:8080/"
        },
        "id": "l2t8Hcz0TPSo",
        "outputId": "108dddb6-42ea-4d8a-aa47-36542ddea9d9"
      },
      "execution_count": 31,
      "outputs": [
        {
          "output_type": "execute_result",
          "data": {
            "text/plain": [
              "tensor([[1., 0., 0.],\n",
              "        [0., 1., 0.],\n",
              "        [0., 0., 1.]])"
            ]
          },
          "metadata": {},
          "execution_count": 31
        }
      ]
    },
    {
      "cell_type": "code",
      "source": [
        "''' somewhat similar to eye\n",
        "But here:\n",
        "1) input MUST be a tensor\n",
        "2) supports only 1d or 2d.\n",
        "No 0d, so can't give t.tensor(3)\n",
        "MUST be t.tensor([3])\n",
        "'''\n",
        "x = t.diag(t.tensor([1,2,3]))"
      ],
      "metadata": {
        "id": "u7sxBIjaXoQc"
      },
      "execution_count": 32,
      "outputs": []
    },
    {
      "cell_type": "code",
      "source": [
        "# numel gets total num of elements in tensor. 1d, 2d, etc\n",
        "\n",
        "a = t.ones(4)\n",
        "print(a.numel())\n",
        "\n",
        "b = t.zeros(3,5) # 3 rows by 5 columns. Total 15\n",
        "print(b.numel())"
      ],
      "metadata": {
        "colab": {
          "base_uri": "https://localhost:8080/"
        },
        "id": "MZi8_CufY8jT",
        "outputId": "972bbe7f-13f5-4f06-c042-080d68682b4f"
      },
      "execution_count": 33,
      "outputs": [
        {
          "output_type": "stream",
          "name": "stdout",
          "text": [
            "4\n",
            "15\n"
          ]
        }
      ]
    },
    {
      "cell_type": "markdown",
      "source": [
        "# 11) Etc"
      ],
      "metadata": {
        "id": "WKNq7MuRa7Ol"
      }
    },
    {
      "cell_type": "code",
      "source": [
        "# torch.round\n",
        "\n",
        "t.manual_seed(0)\n",
        "\n",
        "x = t.rand(5, dtype=t.float32)\n",
        "\n",
        "print(f'Random nums:\\n{x}\\nROUNDED random nums{t.round(x)}\\n\\n')\n",
        "\n",
        "# fd = first decimal, sd = second decimal.\n",
        "fd = t.round(x, decimals=1)\n",
        "sd = t.round(x, decimals=2)\n",
        "print(f'Rounded to 1st decimal:\\n{fd}\\nRounded to 2nd decimal: {sd}')"
      ],
      "metadata": {
        "colab": {
          "base_uri": "https://localhost:8080/"
        },
        "id": "7JoYSn7foGBq",
        "outputId": "17ab5905-64c4-43c0-e88a-5df034d0de4a"
      },
      "execution_count": 34,
      "outputs": [
        {
          "output_type": "stream",
          "name": "stdout",
          "text": [
            "Random nums:\n",
            "tensor([0.4963, 0.7682, 0.0885, 0.1320, 0.3074])\n",
            "ROUNDED random numstensor([0., 1., 0., 0., 0.])\n",
            "\n",
            "\n",
            "Rounded to 1st decimal:\n",
            "tensor([0.5000, 0.8000, 0.1000, 0.1000, 0.3000])\n",
            "Rounded to 2nd decimal: tensor([0.5000, 0.7700, 0.0900, 0.1300, 0.3100])\n"
          ]
        }
      ]
    },
    {
      "cell_type": "code",
      "source": [
        "''' The == compares tensors if they match. Below example, only index 3 doesn't match,\n",
        "    out of 5 total. That's why with \"preds == gts\" gets:\n",
        "    \"tensor([ True,  True, False,  True,  True])\"\n",
        "\n",
        "    (preds == gts).float() - just turns bools into Floats,\n",
        "\n",
        "    then normally . sum is used to get total correct\n",
        "\n",
        "    This is a good and simple way to calculate accuracy\n",
        "'''\n",
        "preds = t.tensor([1,0,1,1,1])\n",
        "gts = t.tensor([1,0,0,1,1])\n",
        "\n",
        "# print(preds == gts) # tensor([ True,  True, False,  True,  True])\n",
        "# print((preds == gts).float()) # tensor([1., 1., 0., 1., 1.])\n",
        "# print((preds == gts).float().sum())\n",
        "acc = (preds == gts).float().sum() / len(gts)\n",
        "acc"
      ],
      "metadata": {
        "colab": {
          "base_uri": "https://localhost:8080/"
        },
        "id": "BYTeE2J7qbO8",
        "outputId": "63898ee9-f994-4c41-b9fd-06b5ef126815"
      },
      "execution_count": 35,
      "outputs": [
        {
          "output_type": "execute_result",
          "data": {
            "text/plain": [
              "tensor(0.8000)"
            ]
          },
          "metadata": {},
          "execution_count": 35
        }
      ]
    },
    {
      "cell_type": "code",
      "source": [
        "\n",
        "''' unsqueeze literally gives\n",
        "Another dimension to a tensor.\n",
        "\n",
        "For a 1d tensor, it's shape can\n",
        "Go from 4 to 1,4. So now it's in\n",
        "A row.\n",
        "\n",
        "unsqueeze(0) Goes from:\n",
        "\"tensor([4, 2, 5, 7])\"\n",
        "To: \"tensor([[4, 2, 5, 7]])\"\n",
        "Shape is 1,4\n",
        "\n",
        "unsqueeze(1) gives each element\n",
        "Its own row. It's shape is 4,1\n",
        "\n",
        "'''\n",
        "x = t.tensor([4,2,5,7])\n",
        "print(x.shape)\n",
        "print(x)\n",
        "print('\\n')\n",
        "\n",
        "y = x.unsqueeze(0)\n",
        "print(y.shape)\n",
        "print(y)\n",
        "print('\\n')\n",
        "\n",
        "z = x.unsqueeze(1)\n",
        "print(z.shape)\n",
        "print(z)"
      ],
      "metadata": {
        "colab": {
          "base_uri": "https://localhost:8080/"
        },
        "id": "ub1p9oEw6gXk",
        "outputId": "d599e80c-0629-48d2-c435-40c4100e2618"
      },
      "execution_count": 36,
      "outputs": [
        {
          "output_type": "stream",
          "name": "stdout",
          "text": [
            "torch.Size([4])\n",
            "tensor([4, 2, 5, 7])\n",
            "\n",
            "\n",
            "torch.Size([1, 4])\n",
            "tensor([[4, 2, 5, 7]])\n",
            "\n",
            "\n",
            "torch.Size([4, 1])\n",
            "tensor([[4],\n",
            "        [2],\n",
            "        [5],\n",
            "        [7]])\n"
          ]
        }
      ]
    },
    {
      "cell_type": "code",
      "source": [
        "''' For 2d? Below default shape\n",
        "Is 2,4.\n",
        "1) unsqueeze(0) makes it go to\n",
        "3d with shape now is:\n",
        "\"torch.Size([1, 2, 4])\"\n",
        "\n",
        "2) unsqueeze(1) makes it go to\n",
        "3d as well but with shape\n",
        "\"torch.Size([2, 1, 4])\"\n",
        "\n",
        "'''\n",
        "\n",
        "y = t.tensor([[2,4,5,7],\n",
        "              [9,6,3,1]])\n",
        "\n",
        "print(f'Default tensor:\\n{y}\\n')\n",
        "\n",
        "print(y.unsqueeze(0))\n",
        "print(y.unsqueeze(0).shape)\n",
        "print('\\n')\n",
        "\n",
        "print(y.unsqueeze(1))\n",
        "print(y.unsqueeze(1).shape)"
      ],
      "metadata": {
        "colab": {
          "base_uri": "https://localhost:8080/"
        },
        "id": "R47GlNjj8dDJ",
        "outputId": "7998c13f-efe8-4879-d2e4-7f639f951ece"
      },
      "execution_count": 37,
      "outputs": [
        {
          "output_type": "stream",
          "name": "stdout",
          "text": [
            "Default tensor:\n",
            "tensor([[2, 4, 5, 7],\n",
            "        [9, 6, 3, 1]])\n",
            "\n",
            "tensor([[[2, 4, 5, 7],\n",
            "         [9, 6, 3, 1]]])\n",
            "torch.Size([1, 2, 4])\n",
            "\n",
            "\n",
            "tensor([[[2, 4, 5, 7]],\n",
            "\n",
            "        [[9, 6, 3, 1]]])\n",
            "torch.Size([2, 1, 4])\n"
          ]
        }
      ]
    },
    {
      "cell_type": "code",
      "source": [
        "''' squeeze makes us get rid of\n",
        "a dimension. Shape below is 1,3\n",
        "After squeeze it goes to 1d so\n",
        "Shape is 3\n",
        "'''\n",
        "a = t.tensor([[3,5,7]])\n",
        "print(a.shape)\n",
        "\n",
        "a = a.squeeze()\n",
        "a.shape"
      ],
      "metadata": {
        "colab": {
          "base_uri": "https://localhost:8080/"
        },
        "id": "hNMdR5i1_4Xc",
        "outputId": "36016dd7-c96f-483c-c4b1-dfbc7064a5a5"
      },
      "execution_count": 38,
      "outputs": [
        {
          "output_type": "stream",
          "name": "stdout",
          "text": [
            "torch.Size([1, 3])\n"
          ]
        },
        {
          "output_type": "execute_result",
          "data": {
            "text/plain": [
              "torch.Size([3])"
            ]
          },
          "metadata": {},
          "execution_count": 38
        }
      ]
    },
    {
      "cell_type": "code",
      "source": [
        "''' get a 2d tensor of random\n",
        "Values. Squeeze here, whether\n",
        "Given 1, 0 or nothing, doesn't\n",
        "Change anything.\n",
        "'''\n",
        "\n",
        "t.manual_seed(0)\n",
        "\n",
        "x = t.rand(3,2)\n",
        "\n",
        "print(x)\n",
        "print(x.squeeze())"
      ],
      "metadata": {
        "colab": {
          "base_uri": "https://localhost:8080/"
        },
        "id": "5jqlsFoZAu6R",
        "outputId": "20afe805-c815-4b41-9ade-5d0d675bb440"
      },
      "execution_count": 39,
      "outputs": [
        {
          "output_type": "stream",
          "name": "stdout",
          "text": [
            "tensor([[0.4963, 0.7682],\n",
            "        [0.0885, 0.1320],\n",
            "        [0.3074, 0.6341]])\n",
            "tensor([[0.4963, 0.7682],\n",
            "        [0.0885, 0.1320],\n",
            "        [0.3074, 0.6341]])\n"
          ]
        }
      ]
    },
    {
      "cell_type": "code",
      "source": [
        "''' 4d tensors. Not exactly applicable to\n",
        "Nlp programmers since we mainly\n",
        "Work with but still good to go\n",
        "Over.\n",
        "\n",
        "The code creates 3 sets of 3d tensors\n",
        "Of shape 2,3,3.\n",
        "2 is how many of the 3,3 tensors to make\n",
        "3,3 are height and width.\n",
        "\n",
        "'''\n",
        "t.manual_seed(0)\n",
        "\n",
        "r = t.randn((3, 2, 3, 3))\n",
        "\n",
        "\n",
        "print(f'r shape: {r.shape}\\nr:\\n{r}\\n\\n')\n",
        "\n",
        "print(f'Index 0/1/2 shape: {r[0].shape}')\n",
        "print(f'Index 0:\\n{r[0]}')"
      ],
      "metadata": {
        "colab": {
          "base_uri": "https://localhost:8080/"
        },
        "id": "KglbKtDcQ4zk",
        "outputId": "8176138b-2a3a-4da9-bcbf-e9232300185c"
      },
      "execution_count": 40,
      "outputs": [
        {
          "output_type": "stream",
          "name": "stdout",
          "text": [
            "r shape: torch.Size([3, 2, 3, 3])\n",
            "r:\n",
            "tensor([[[[-1.1258, -1.1524, -0.2506],\n",
            "          [-0.4339,  0.8487,  0.6920],\n",
            "          [-0.3160, -2.1152,  0.3223]],\n",
            "\n",
            "         [[-1.2633,  0.3500,  0.3081],\n",
            "          [ 0.1198,  1.2377,  1.1168],\n",
            "          [-0.2473, -1.3527, -1.6959]]],\n",
            "\n",
            "\n",
            "        [[[ 0.5667,  0.7935,  0.5988],\n",
            "          [-1.5551, -0.3414,  1.8530],\n",
            "          [ 0.7502, -0.5855, -0.1734]],\n",
            "\n",
            "         [[ 0.1835,  1.3894,  1.5863],\n",
            "          [ 0.9463, -0.8437, -0.6136],\n",
            "          [ 0.0316, -0.4927,  0.2484]]],\n",
            "\n",
            "\n",
            "        [[[ 0.4397,  0.1124,  0.5433],\n",
            "          [-0.3952,  0.2055, -0.4503],\n",
            "          [-0.5731, -0.5554,  0.5943]],\n",
            "\n",
            "         [[ 1.5419,  1.8197, -0.5515],\n",
            "          [-1.3253,  0.1886, -0.0691],\n",
            "          [-0.4949, -1.4959, -0.1938]]]])\n",
            "\n",
            "\n",
            "Index 0/1/2 shape: torch.Size([2, 3, 3])\n",
            "Index 0:\n",
            "tensor([[[-1.1258, -1.1524, -0.2506],\n",
            "         [-0.4339,  0.8487,  0.6920],\n",
            "         [-0.3160, -2.1152,  0.3223]],\n",
            "\n",
            "        [[-1.2633,  0.3500,  0.3081],\n",
            "         [ 0.1198,  1.2377,  1.1168],\n",
            "         [-0.2473, -1.3527, -1.6959]]])\n"
          ]
        }
      ]
    },
    {
      "cell_type": "code",
      "source": [
        "''' arange is a small but useful\n",
        "Func for loops and more\n",
        "\n",
        "1) 0 to 8 by 2s\n",
        "2) up to 10\n",
        "3) even uses negative numbers\n",
        "\n",
        "'''\n",
        "\n",
        "print(t.arange(0,8,2))\n",
        "print(t.arange(10))\n",
        "print(t.arange(-10,0))"
      ],
      "metadata": {
        "colab": {
          "base_uri": "https://localhost:8080/"
        },
        "id": "BZlnbZhAVLLI",
        "outputId": "6b7db06a-9665-45bf-ed6d-8ea71524d444"
      },
      "execution_count": 41,
      "outputs": [
        {
          "output_type": "stream",
          "name": "stdout",
          "text": [
            "tensor([0, 2, 4, 6])\n",
            "tensor([0, 1, 2, 3, 4, 5, 6, 7, 8, 9])\n",
            "tensor([-10,  -9,  -8,  -7,  -6,  -5,  -4,  -3,  -2,  -1])\n"
          ]
        }
      ]
    },
    {
      "cell_type": "code",
      "source": [
        "# scalars are just tensors with one value\n",
        "d = t.tensor(55)\n",
        "\n",
        "d"
      ],
      "metadata": {
        "colab": {
          "base_uri": "https://localhost:8080/"
        },
        "id": "qwu-CZ4SWMfS",
        "outputId": "5ec3b1af-3904-4669-d140-4140ce0c5c39"
      },
      "execution_count": 42,
      "outputs": [
        {
          "output_type": "execute_result",
          "data": {
            "text/plain": [
              "tensor(55)"
            ]
          },
          "metadata": {},
          "execution_count": 42
        }
      ]
    },
    {
      "cell_type": "code",
      "source": [
        "\n",
        "''' Flatten can take a 2d, 3d,\n",
        "Etc tensor and make it 1d.\n",
        "\n",
        "Example 1) x is 2d. Total 8\n",
        "Values since 2 rows * 4 columns is\n",
        "8. That's why flatten shape is 8\n",
        "Afterwards\n",
        "\n",
        "Example 2) 3d. 2 sets of ones\n",
        "That are 3,3. So 9 total. 9*2\n",
        "Is 18. So flatten shape is 18.\n",
        "\n",
        "'''\n",
        "\n",
        "x = t.tensor([[5,7,9,3],\n",
        "              [1,2,5,7]])\n",
        "\n",
        "y = t.ones(2,3,3)\n",
        "\n",
        "print(x.flatten())\n",
        "print(x.flatten().shape)\n",
        "print('\\n')\n",
        "\n",
        "print(y)\n",
        "print('\\n')\n",
        "print(y.flatten())\n",
        "print(y.flatten().shape)"
      ],
      "metadata": {
        "colab": {
          "base_uri": "https://localhost:8080/"
        },
        "id": "4xa4aOI3edyl",
        "outputId": "b7e5c395-7b3d-493a-faf1-034eedcf302e"
      },
      "execution_count": 43,
      "outputs": [
        {
          "output_type": "stream",
          "name": "stdout",
          "text": [
            "tensor([5, 7, 9, 3, 1, 2, 5, 7])\n",
            "torch.Size([8])\n",
            "\n",
            "\n",
            "tensor([[[1., 1., 1.],\n",
            "         [1., 1., 1.],\n",
            "         [1., 1., 1.]],\n",
            "\n",
            "        [[1., 1., 1.],\n",
            "         [1., 1., 1.],\n",
            "         [1., 1., 1.]]])\n",
            "\n",
            "\n",
            "tensor([1., 1., 1., 1., 1., 1., 1., 1., 1., 1., 1., 1., 1., 1., 1., 1., 1., 1.])\n",
            "torch.Size([18])\n"
          ]
        }
      ]
    }
  ],
  "metadata": {
    "colab": {
      "provenance": []
    },
    "kernelspec": {
      "display_name": "Python 3",
      "name": "python3"
    },
    "language_info": {
      "name": "python"
    }
  },
  "nbformat": 4,
  "nbformat_minor": 0
}